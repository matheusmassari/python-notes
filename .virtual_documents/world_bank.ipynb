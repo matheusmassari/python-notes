


# Instalação das bibliotecas necessárias
import subprocess
import sys

def install_package(package):
    """Instala um pacote se não estiver disponível"""
    try:
        __import__(package)
    except ImportError:
        subprocess.check_call([sys.executable, "-m", "pip", "install", package])

# Instalar bibliotecas necessárias
packages_to_install = [
    'wbgapi',
    'pandas',
    'numpy',
    'matplotlib',
    'seaborn',
    'plotly',
    'scipy',
    'scikit-learn'
]

for package in packages_to_install:
    install_package(package)

print("Todas as bibliotecas foram instaladas com sucesso!")



# Importar bibliotecas
import wbgapi as wb
import pandas as pd
import numpy as np
import matplotlib.pyplot as plt
import seaborn as sns
import plotly.express as px
import plotly.graph_objects as go
from plotly.subplots import make_subplots
import warnings
from scipy import stats

# Configurações para visualizações
plt.style.use('seaborn-v0_8')
sns.set_palette("husl")
warnings.filterwarnings('ignore')

# Configurar pandas para exibir mais colunas
pd.set_option('display.max_columns', None)
pd.set_option('display.width', None)

print("Bibliotecas importadas com sucesso!")
print(f"Versão do wbgapi: {wb.__version__}")

# Verificar conexão com a API do World Bank
try:
    wb.series.info('NY.GDP.PCAP.CD')
    print("Conexão com a API do World Bank: ✓ Funcionando")
except Exception as e:
    print(f"Erro na conexão com a API: {e}")



# Definir países para análise
developed_countries = {
    'USA': 'Estados Unidos',
    'DEU': 'Alemanha', 
    'JPN': 'Japão',
    'FRA': 'França',
    'GBR': 'Reino Unido',
    'CAN': 'Canadá',
    'AUS': 'Austrália',
    'SWE': 'Suécia',
    'CHE': 'Suíça',
    'DNK': 'Dinamarca'
}

developing_countries = {
    'BRA': 'Brasil',
    'IND': 'Índia',
    'NGA': 'Nigéria',
    'BGD': 'Bangladesh',
    'PAK': 'Paquistão',
    'ETH': 'Etiópia',
    'MDG': 'Madagascar',
    'HTI': 'Haiti',
    'AFG': 'Afeganistão',
    'MLI': 'Mali'
}

# Todos os países
all_countries = {**developed_countries, **developing_countries}

print("Países selecionados para análise:")
print(f"Desenvolvidos: {list(developed_countries.values())}")
print(f"Em desenvolvimento: {list(developing_countries.values())}")

# Indicadores principais do World Bank que vamos usar
indicators = {
    'NY.GDP.PCAP.CD': 'PIB per capita (USD)',
    'SI.POV.GINI': 'Índice GINI',
    'NY.GDP.MKTP.CD': 'PIB (USD)',
    'SP.POP.TOTL': 'População Total',
    'SI.POV.DDAY': 'Taxa de Pobreza (< $2.15/dia)',
    'FX.OWN.TOTL.ZS': 'Acesso a Conta Financeira (%)',
    'FB.CBK.BRCH.P5': 'Agências Bancárias (per 100k adults)',
    'FB.ATM.TOTL.P5': 'ATMs (per 100k adults)',
    'IC.CRD.PRVT.ZS': 'Crédito Privado (% PIB)',
    'FS.AST.DOMS.GD.ZS': 'Ativos Financeiros Domésticos (% PIB)',
    'SH.XPD.CHEX.PC.CD': 'Gastos com Saúde per capita (USD)',
    'SE.XPD.TOTL.GD.ZS': 'Gastos com Educação (% PIB)',
    'EN.ATM.CO2E.PC': 'Emissões CO2 per capita (toneladas)',
    'IT.NET.USER.ZS': 'Usuários Internet (%)',
    'EG.ELC.ACCS.ZS': 'Acesso à Eletricidade (%)'
}

print(f"\nIndicadores selecionados: {len(indicators)} indicadores")
for code, name in indicators.items():
    print(f"  {code}: {name}")



# Função para coletar dados do World Bank
def get_world_bank_data(countries, indicators, start_year=2010, end_year=2022):
    """Coleta dados do World Bank para países e indicadores específicos"""
    print(f"Coletando dados do World Bank para {len(countries)} países...")
    
    all_data = {}
    
    for indicator_code, indicator_name in indicators.items():
        print(f"Coletando dados para: {indicator_name}")
        
        try:
            # Buscar dados usando wbgapi
            data = wb.data.DataFrame(
                indicator_code, 
                countries, 
                time=range(start_year, end_year+1),
                skipAggs=True,
                skipBlanks=True
            )
            
            # Transpor dados para ter anos como colunas
            data = data.T
            
            # Adicionar nomes dos países
            data.index = [all_countries.get(idx, idx) for idx in data.index]
            
            all_data[indicator_name] = data
            
        except Exception as e:
            print(f"Erro ao coletar {indicator_name}: {e}")
            continue
    
    return all_data

# Coletar dados
print("Iniciando coleta de dados...")
data = get_world_bank_data(list(all_countries.keys()), indicators)

print(f"\nDados coletados com sucesso!")
print(f"Indicadores disponíveis: {list(data.keys())}")

# Verificar disponibilidade dos dados
print("\nVerificando disponibilidade dos dados:")
for indicator_name, df in data.items():
    print(f"{indicator_name}: {df.shape[0]} países, {df.shape[1]} anos")



# Preparar dados para análise
def prepare_analysis_data(data_dict):
    """Prepara dados para análise comparativa"""
    
    # Criar um DataFrame consolidado com os dados mais recentes
    latest_data = {}
    
    for indicator_name, df in data_dict.items():
        # Pegar o valor mais recente disponível para cada país
        latest_values = df.iloc[:, -3:].mean(axis=1)  # Média dos últimos 3 anos
        latest_data[indicator_name] = latest_values
    
    # Criar DataFrame consolidado
    consolidated_df = pd.DataFrame(latest_data)
    
    # Adicionar classificação de desenvolvimento
    consolidated_df['Categoria'] = consolidated_df.index.map(
        lambda x: 'Desenvolvido' if x in developed_countries.values() else 'Em Desenvolvimento'
    )
    
    return consolidated_df

# Preparar dados
print("Preparando dados para análise...")
analysis_df = prepare_analysis_data(data)

print(f"DataFrame de análise criado com {analysis_df.shape[0]} países e {analysis_df.shape[1]} indicadores")
print("\nPrimeiras linhas do DataFrame:")
print(analysis_df.head())

# Verificar dados faltantes
print("\nDados faltantes por indicador:")
missing_data = analysis_df.isnull().sum()
print(missing_data[missing_data > 0])

# Estatísticas descritivas por categoria
print("\nEstatísticas descritivas por categoria:")
print(analysis_df.groupby('Categoria').describe())






# Visualização 1: Comparação de PIB per capita
def plot_gdp_per_capita_comparison():
    """Visualiza a comparação de PIB per capita entre países desenvolvidos e em desenvolvimento"""
    
    # Filtrar dados válidos
    gdp_data = analysis_df[['PIB per capita (USD)', 'Categoria']].dropna()
    
    # Criar subplots
    fig, axes = plt.subplots(2, 2, figsize=(16, 12))
    fig.suptitle('Disparidades de PIB per capita entre Países Desenvolvidos e em Desenvolvimento', 
                 fontsize=16, fontweight='bold')
    
    # 1. Box plot comparativo
    sns.boxplot(data=gdp_data, x='Categoria', y='PIB per capita (USD)', ax=axes[0,0])
    axes[0,0].set_title('Distribuição do PIB per capita por Categoria')
    axes[0,0].set_ylabel('PIB per capita (USD)')
    axes[0,0].yaxis.set_major_formatter(plt.FuncFormatter(lambda x, p: f'${x:,.0f}'))
    
    # 2. Gráfico de barras por país
    gdp_sorted = gdp_data.sort_values('PIB per capita (USD)', ascending=True)
    colors = ['#2E86AB' if cat == 'Desenvolvido' else '#F24236' for cat in gdp_sorted['Categoria']]
    
    axes[0,1].barh(gdp_sorted.index, gdp_sorted['PIB per capita (USD)'], color=colors)
    axes[0,1].set_title('PIB per capita por País')
    axes[0,1].set_xlabel('PIB per capita (USD)')
    axes[0,1].xaxis.set_major_formatter(plt.FuncFormatter(lambda x, p: f'${x:,.0f}'))
    
    # 3. Histograma
    for category in gdp_data['Categoria'].unique():
        subset = gdp_data[gdp_data['Categoria'] == category]
        axes[1,0].hist(subset['PIB per capita (USD)'], alpha=0.7, label=category, bins=10)
    
    axes[1,0].set_title('Distribuição de Frequência do PIB per capita')
    axes[1,0].set_xlabel('PIB per capita (USD)')
    axes[1,0].set_ylabel('Frequência')
    axes[1,0].legend()
    axes[1,0].xaxis.set_major_formatter(plt.FuncFormatter(lambda x, p: f'${x:,.0f}'))
    
    # 4. Estatísticas comparativas
    stats_data = gdp_data.groupby('Categoria')['PIB per capita (USD)'].agg(['mean', 'median', 'std'])
    axes[1,1].bar(stats_data.index, stats_data['mean'], alpha=0.7, label='Média')
    axes[1,1].bar(stats_data.index, stats_data['median'], alpha=0.7, label='Mediana')
    axes[1,1].set_title('Estatísticas do PIB per capita por Categoria')
    axes[1,1].set_ylabel('PIB per capita (USD)')
    axes[1,1].legend()
    axes[1,1].yaxis.set_major_formatter(plt.FuncFormatter(lambda x, p: f'${x:,.0f}'))
    
    plt.tight_layout()
    plt.show()
    
    # Estatísticas descritivas
    print("Estatísticas do PIB per capita por categoria:")
    print(gdp_data.groupby('Categoria')['PIB per capita (USD)'].describe())
    
    # Teste t para diferenças significativas
    developed = gdp_data[gdp_data['Categoria'] == 'Desenvolvido']['PIB per capita (USD)']
    developing = gdp_data[gdp_data['Categoria'] == 'Em Desenvolvimento']['PIB per capita (USD)']
    
    t_stat, p_value = stats.ttest_ind(developed, developing)
    print(f"\nTeste t para diferenças entre grupos:")
    print(f"Estatística t: {t_stat:.4f}")
    print(f"Valor p: {p_value:.4f}")
    print(f"Diferença estatisticamente significativa: {'Sim' if p_value < 0.05 else 'Não'}")

# Executar visualização
plot_gdp_per_capita_comparison()






# Análise do Índice GINI
def analyze_gini_inequality():
    """Analisa a desigualdade de renda usando o Índice GINI"""
    
    # Filtrar dados válidos
    gini_data = analysis_df[['Índice GINI', 'PIB per capita (USD)', 'Categoria']].dropna()
    
    # Criar visualizações
    fig, axes = plt.subplots(2, 2, figsize=(16, 12))
    fig.suptitle('Análise de Desigualdade de Renda (Índice GINI)', fontsize=16, fontweight='bold')
    
    # 1. Comparação do GINI por categoria
    sns.boxplot(data=gini_data, x='Categoria', y='Índice GINI', ax=axes[0,0])
    axes[0,0].set_title('Distribuição do Índice GINI por Categoria')
    axes[0,0].set_ylabel('Índice GINI')
    
    # 2. Correlação entre PIB per capita e GINI
    colors = ['#2E86AB' if cat == 'Desenvolvido' else '#F24236' for cat in gini_data['Categoria']]
    
    axes[0,1].scatter(gini_data['PIB per capita (USD)'], gini_data['Índice GINI'], 
                     c=colors, alpha=0.7, s=100)
    
    # Linha de regressão
    from sklearn.linear_model import LinearRegression
    X = gini_data[['PIB per capita (USD)']].values
    y = gini_data['Índice GINI'].values
    
    reg = LinearRegression().fit(X, y)
    x_line = np.linspace(X.min(), X.max(), 100)
    y_line = reg.predict(x_line.reshape(-1, 1))
    axes[0,1].plot(x_line, y_line, '--', color='black', alpha=0.8)
    
    axes[0,1].set_title('Correlação: PIB per capita vs Índice GINI')
    axes[0,1].set_xlabel('PIB per capita (USD)')
    axes[0,1].set_ylabel('Índice GINI')
    axes[0,1].xaxis.set_major_formatter(plt.FuncFormatter(lambda x, p: f'${x:,.0f}'))
    
    # 3. Ranking dos países pelo GINI
    gini_sorted = gini_data.sort_values('Índice GINI', ascending=False)
    colors = ['#2E86AB' if cat == 'Desenvolvido' else '#F24236' for cat in gini_sorted['Categoria']]
    
    axes[1,0].barh(range(len(gini_sorted)), gini_sorted['Índice GINI'], color=colors)
    axes[1,0].set_yticks(range(len(gini_sorted)))
    axes[1,0].set_yticklabels(gini_sorted.index, fontsize=10)
    axes[1,0].set_title('Ranking de Países por Índice GINI')
    axes[1,0].set_xlabel('Índice GINI')
    
    # 4. Distribuição de frequência do GINI
    for category in gini_data['Categoria'].unique():
        subset = gini_data[gini_data['Categoria'] == category]
        axes[1,1].hist(subset['Índice GINI'], alpha=0.7, label=category, bins=8)
    
    axes[1,1].set_title('Distribuição de Frequência do Índice GINI')
    axes[1,1].set_xlabel('Índice GINI')
    axes[1,1].set_ylabel('Frequência')
    axes[1,1].legend()
    
    plt.tight_layout()
    plt.show()
    
    # Estatísticas
    print("Estatísticas do Índice GINI por categoria:")
    print(gini_data.groupby('Categoria')['Índice GINI'].describe())
    
    # Correlação
    correlation = gini_data['PIB per capita (USD)'].corr(gini_data['Índice GINI'])
    print(f"\nCorrelação entre PIB per capita e Índice GINI: {correlation:.4f}")
    
    # Teste t para diferenças no GINI
    developed_gini = gini_data[gini_data['Categoria'] == 'Desenvolvido']['Índice GINI']
    developing_gini = gini_data[gini_data['Categoria'] == 'Em Desenvolvimento']['Índice GINI']
    
    t_stat, p_value = stats.ttest_ind(developed_gini, developing_gini)
    print(f"\nTeste t para diferenças no GINI entre grupos:")
    print(f"Estatística t: {t_stat:.4f}")
    print(f"Valor p: {p_value:.4f}")
    print(f"Diferença estatisticamente significativa: {'Sim' if p_value < 0.05 else 'Não'}")

# Executar análise
analyze_gini_inequality()






# Análise de Acesso a Serviços Financeiros
def analyze_financial_access():
    """Analisa o acesso a serviços financeiros e sua relação com desenvolvimento"""
    
    # Selecionar indicadores financeiros
    financial_indicators = [
        'Acesso a Conta Financeira (%)',
        'Agências Bancárias (per 100k adults)',
        'ATMs (per 100k adults)',
        'Crédito Privado (% PIB)',
        'Ativos Financeiros Domésticos (% PIB)'
    ]
    
    # Criar DataFrame com dados financeiros
    fin_data = analysis_df[financial_indicators + ['PIB per capita (USD)', 'Categoria']].copy()
    
    # Criar visualizações
    fig, axes = plt.subplots(3, 2, figsize=(16, 18))
    fig.suptitle('Análise de Acesso a Serviços Financeiros', fontsize=16, fontweight='bold')
    
    # 1. Acesso a Conta Financeira por categoria
    account_data = fin_data[['Acesso a Conta Financeira (%)', 'Categoria']].dropna()
    if not account_data.empty:
        sns.boxplot(data=account_data, x='Categoria', y='Acesso a Conta Financeira (%)', ax=axes[0,0])
        axes[0,0].set_title('Acesso a Conta Financeira por Categoria')
        axes[0,0].set_ylabel('% da População')
    
    # 2. Agências Bancárias por categoria
    branch_data = fin_data[['Agências Bancárias (per 100k adults)', 'Categoria']].dropna()
    if not branch_data.empty:
        sns.boxplot(data=branch_data, x='Categoria', y='Agências Bancárias (per 100k adults)', ax=axes[0,1])
        axes[0,1].set_title('Densidade de Agências Bancárias')
        axes[0,1].set_ylabel('Agências per 100k adults')
    
    # 3. ATMs por categoria
    atm_data = fin_data[['ATMs (per 100k adults)', 'Categoria']].dropna()
    if not atm_data.empty:
        sns.boxplot(data=atm_data, x='Categoria', y='ATMs (per 100k adults)', ax=axes[1,0])
        axes[1,0].set_title('Densidade de ATMs')
        axes[1,0].set_ylabel('ATMs per 100k adults')
    
    # 4. Crédito Privado por categoria
    credit_data = fin_data[['Crédito Privado (% PIB)', 'Categoria']].dropna()
    if not credit_data.empty:
        sns.boxplot(data=credit_data, x='Categoria', y='Crédito Privado (% PIB)', ax=axes[1,1])
        axes[1,1].set_title('Crédito Privado como % do PIB')
        axes[1,1].set_ylabel('% do PIB')
    
    # 5. Correlação entre acesso financeiro e PIB per capita
    if not account_data.empty:
        colors = ['#2E86AB' if cat == 'Desenvolvido' else '#F24236' for cat in account_data['Categoria']]
        
        # Merge com dados de PIB
        account_gdp = account_data.merge(
            fin_data[['PIB per capita (USD)']], 
            left_index=True, right_index=True
        ).dropna()
        
        if not account_gdp.empty:
            axes[2,0].scatter(account_gdp['PIB per capita (USD)'], 
                            account_gdp['Acesso a Conta Financeira (%)'], 
                            c=colors[:len(account_gdp)], alpha=0.7, s=100)
            axes[2,0].set_title('PIB per capita vs Acesso a Conta Financeira')
            axes[2,0].set_xlabel('PIB per capita (USD)')
            axes[2,0].set_ylabel('Acesso a Conta Financeira (%)')
            axes[2,0].xaxis.set_major_formatter(plt.FuncFormatter(lambda x, p: f'${x:,.0f}'))
    
    # 6. Comparação múltipla de indicadores financeiros
    # Normalizar dados para comparação
    fin_normalized = fin_data[financial_indicators].copy()
    for col in financial_indicators:
        if col in fin_normalized.columns and not fin_normalized[col].dropna().empty:
            fin_normalized[col] = (fin_normalized[col] - fin_normalized[col].min()) / (fin_normalized[col].max() - fin_normalized[col].min())
    
    # Calcular médias por categoria
    category_means = fin_normalized.groupby(fin_data['Categoria']).mean()
    
    # Criar radar chart
    categories = list(category_means.index)
    indicators = [ind for ind in financial_indicators if ind in category_means.columns]
    
    if len(categories) > 0 and len(indicators) > 0:
        x = np.arange(len(indicators))
        width = 0.35
        
        for i, category in enumerate(categories):
            values = [category_means.loc[category, ind] if not pd.isna(category_means.loc[category, ind]) else 0 for ind in indicators]
            axes[2,1].bar(x + i*width, values, width, label=category, alpha=0.8)
        
        axes[2,1].set_title('Comparação Normalizada de Indicadores Financeiros')
        axes[2,1].set_xlabel('Indicadores')
        axes[2,1].set_ylabel('Valor Normalizado (0-1)')
        axes[2,1].set_xticks(x + width/2)
        axes[2,1].set_xticklabels([ind.replace(' (', '\n(') for ind in indicators], rotation=45, ha='right')
        axes[2,1].legend()
    
    plt.tight_layout()
    plt.show()
    
    # Estatísticas descritivas
    print("Estatísticas de Acesso a Serviços Financeiros por Categoria:")
    print("="*60)
    
    for indicator in financial_indicators:
        if indicator in fin_data.columns:
            indicator_data = fin_data[[indicator, 'Categoria']].dropna()
            if not indicator_data.empty:
                print(f"\n{indicator}:")
                stats = indicator_data.groupby('Categoria')[indicator].agg(['mean', 'median', 'std', 'count'])
                print(stats)
    
    # Correlações
    print("\nCorrelações entre Indicadores Financeiros e PIB per capita:")
    print("="*60)
    for indicator in financial_indicators:
        if indicator in fin_data.columns:
            corr_data = fin_data[[indicator, 'PIB per capita (USD)']].dropna()
            if len(corr_data) > 3:
                correlation = corr_data[indicator].corr(corr_data['PIB per capita (USD)'])
                print(f"{indicator}: {correlation:.4f}")

# Executar análise
analyze_financial_access()






# Análise Temporal
def analyze_temporal_trends():
    """Analisa tendências temporais dos indicadores"""
    
    # Criar séries temporais para PIB per capita e GINI
    def create_time_series(data_dict, indicator_name):
        """Cria série temporal para um indicador"""
        if indicator_name not in data_dict:
            return None
        
        df = data_dict[indicator_name].copy()
        
        # Separar por categoria
        developed_countries_pt = [name for name in df.index if name in developed_countries.values()]
        developing_countries_pt = [name for name in df.index if name in developing_countries.values()]
        
        # Calcular médias por categoria ao longo do tempo
        developed_avg = df.loc[developed_countries_pt].mean()
        developing_avg = df.loc[developing_countries_pt].mean()
        
        return developed_avg, developing_avg
    
    # Criar visualizações temporais
    fig, axes = plt.subplots(2, 2, figsize=(16, 12))
    fig.suptitle('Evolução Temporal dos Indicadores Econômicos', fontsize=16, fontweight='bold')
    
    # 1. PIB per capita ao longo do tempo
    gdp_series = create_time_series(data, 'PIB per capita (USD)')
    if gdp_series:
        developed_gdp, developing_gdp = gdp_series
        
        years = developed_gdp.index.astype(int)
        
        axes[0,0].plot(years, developed_gdp, marker='o', label='Países Desenvolvidos', linewidth=2)
        axes[0,0].plot(years, developing_gdp, marker='s', label='Países em Desenvolvimento', linewidth=2)
        axes[0,0].set_title('Evolução do PIB per capita')
        axes[0,0].set_xlabel('Ano')
        axes[0,0].set_ylabel('PIB per capita (USD)')
        axes[0,0].legend()
        axes[0,0].grid(True, alpha=0.3)
        axes[0,0].yaxis.set_major_formatter(plt.FuncFormatter(lambda x, p: f'${x:,.0f}'))
    
    # 2. Índice GINI ao longo do tempo
    gini_series = create_time_series(data, 'Índice GINI')
    if gini_series:
        developed_gini, developing_gini = gini_series
        
        years = developed_gini.index.astype(int)
        
        axes[0,1].plot(years, developed_gini, marker='o', label='Países Desenvolvidos', linewidth=2)
        axes[0,1].plot(years, developing_gini, marker='s', label='Países em Desenvolvimento', linewidth=2)
        axes[0,1].set_title('Evolução do Índice GINI')
        axes[0,1].set_xlabel('Ano')
        axes[0,1].set_ylabel('Índice GINI')
        axes[0,1].legend()
        axes[0,1].grid(True, alpha=0.3)
    
    # 3. Gap de PIB per capita ao longo do tempo
    if gdp_series:
        gap = developed_gdp - developing_gdp
        
        axes[1,0].plot(years, gap, marker='o', color='red', linewidth=2)
        axes[1,0].set_title('Gap de PIB per capita entre Grupos')
        axes[1,0].set_xlabel('Ano')
        axes[1,0].set_ylabel('Diferença PIB per capita (USD)')
        axes[1,0].grid(True, alpha=0.3)
        axes[1,0].yaxis.set_major_formatter(plt.FuncFormatter(lambda x, p: f'${x:,.0f}'))
    
    # 4. Taxa de crescimento do PIB per capita
    if gdp_series:
        developed_growth = developed_gdp.pct_change() * 100
        developing_growth = developing_gdp.pct_change() * 100
        
        axes[1,1].plot(years[1:], developed_growth.iloc[1:], marker='o', label='Países Desenvolvidos', linewidth=2)
        axes[1,1].plot(years[1:], developing_growth.iloc[1:], marker='s', label='Países em Desenvolvimento', linewidth=2)
        axes[1,1].set_title('Taxa de Crescimento do PIB per capita')
        axes[1,1].set_xlabel('Ano')
        axes[1,1].set_ylabel('Taxa de Crescimento (%)')
        axes[1,1].legend()
        axes[1,1].grid(True, alpha=0.3)
    
    plt.tight_layout()
    plt.show()
    
    # Estatísticas das tendências
    print("Análise de Tendências:")
    print("="*50)
    
    if gdp_series:
        developed_gdp, developing_gdp = gdp_series
        
        # Calcular tendências lineares
        years_numeric = developed_gdp.index.astype(int)
        
        # Tendência países desenvolvidos
        dev_trend = np.polyfit(years_numeric, developed_gdp.values, 1)
        print(f"Tendência PIB per capita - Países Desenvolvidos: ${dev_trend[0]:,.0f}/ano")
        
        # Tendência países em desenvolvimento
        devp_trend = np.polyfit(years_numeric, developing_gdp.values, 1)
        print(f"Tendência PIB per capita - Países em Desenvolvimento: ${devp_trend[0]:,.0f}/ano")
        
        # Análise do gap
        initial_gap = developed_gdp.iloc[0] - developing_gdp.iloc[0]
        final_gap = developed_gdp.iloc[-1] - developing_gdp.iloc[-1]
        
        print(f"\nGap inicial (2010): ${initial_gap:,.0f}")
        print(f"Gap final (2022): ${final_gap:,.0f}")
        print(f"Mudança no gap: ${final_gap - initial_gap:,.0f}")
        print(f"Gap está {'aumentando' if final_gap > initial_gap else 'diminuindo'}")
    
    # Análise de correlação temporal
    print("\nAnálise de Correlação Temporal:")
    print("="*50)
    
    # Calcular correlações entre indicadores ao longo do tempo
    correlation_matrix = {}
    
    for indicator1 in ['PIB per capita (USD)', 'Índice GINI']:
        for indicator2 in ['PIB per capita (USD)', 'Índice GINI']:
            if indicator1 != indicator2 and indicator1 in data and indicator2 in data:
                # Calcular correlação baseada em dados agregados
                df1 = data[indicator1]
                df2 = data[indicator2]
                
                # Alinhar dados
                common_countries = df1.index.intersection(df2.index)
                common_years = df1.columns.intersection(df2.columns)
                
                if len(common_countries) > 0 and len(common_years) > 0:
                    data1 = df1.loc[common_countries, common_years].values.flatten()
                    data2 = df2.loc[common_countries, common_years].values.flatten()
                    
                    # Remover valores NaN
                    mask = ~(np.isnan(data1) | np.isnan(data2))
                    
                    if mask.sum() > 10:  # Precisa de pelo menos 10 pontos válidos
                        corr = np.corrcoef(data1[mask], data2[mask])[0, 1]
                        correlation_matrix[f"{indicator1} vs {indicator2}"] = corr
    
    for pair, corr in correlation_matrix.items():
        print(f"{pair}: {corr:.4f}")

# Executar análise temporal
analyze_temporal_trends()






# Análise Multivariada e Correlações
def multivariate_analysis():
    """Realiza análise multivariada dos indicadores"""
    
    # Selecionar indicadores principais para análise
    key_indicators = [
        'PIB per capita (USD)',
        'Índice GINI',
        'Acesso a Conta Financeira (%)',
        'Gastos com Saúde per capita (USD)',
        'Gastos com Educação (% PIB)',
        'Usuários Internet (%)',
        'Acesso à Eletricidade (%)'
    ]
    
    # Criar DataFrame para análise multivariada
    multi_df = analysis_df[key_indicators + ['Categoria']].copy()
    
    # Remover linhas com muitos valores faltantes
    multi_df = multi_df.dropna(thresh=len(key_indicators)//2)
    
    # Criar matriz de correlação
    correlation_matrix = multi_df[key_indicators].corr()
    
    # Visualizações
    fig, axes = plt.subplots(2, 2, figsize=(16, 12))
    fig.suptitle('Análise Multivariada dos Indicadores de Desenvolvimento', fontsize=16, fontweight='bold')
    
    # 1. Heatmap de correlação
    sns.heatmap(correlation_matrix, annot=True, cmap='coolwarm', center=0,
                square=True, ax=axes[0,0], fmt='.3f')
    axes[0,0].set_title('Matriz de Correlação entre Indicadores')
    
    # 2. Scatter plot multivariado (PIB vs outros indicadores)
    if 'PIB per capita (USD)' in multi_df.columns and 'Índice GINI' in multi_df.columns:
        scatter_data = multi_df[['PIB per capita (USD)', 'Índice GINI', 'Categoria']].dropna()
        
        for category in scatter_data['Categoria'].unique():
            subset = scatter_data[scatter_data['Categoria'] == category]
            color = '#2E86AB' if category == 'Desenvolvido' else '#F24236'
            axes[0,1].scatter(subset['PIB per capita (USD)'], subset['Índice GINI'], 
                            label=category, alpha=0.7, s=100, color=color)
        
        axes[0,1].set_title('PIB per capita vs Índice GINI por Categoria')
        axes[0,1].set_xlabel('PIB per capita (USD)')
        axes[0,1].set_ylabel('Índice GINI')
        axes[0,1].legend()
        axes[0,1].xaxis.set_major_formatter(plt.FuncFormatter(lambda x, p: f'${x:,.0f}'))
    
    # 3. Análise de componentes principais (PCA) simplificada
    # Padronizar dados
    from sklearn.preprocessing import StandardScaler
    from sklearn.decomposition import PCA
    
    # Preparar dados para PCA
    pca_data = multi_df[key_indicators].fillna(multi_df[key_indicators].mean())
    
    if len(pca_data) > 2:
        scaler = StandardScaler()
        pca_data_scaled = scaler.fit_transform(pca_data)
        
        # Aplicar PCA
        pca = PCA(n_components=2)
        pca_result = pca.fit_transform(pca_data_scaled)
        
        # Plotar resultado do PCA
        colors = ['#2E86AB' if cat == 'Desenvolvido' else '#F24236' 
                 for cat in multi_df['Categoria']]
        
        axes[1,0].scatter(pca_result[:, 0], pca_result[:, 1], c=colors, alpha=0.7, s=100)
        axes[1,0].set_title(f'PCA - Componentes Principais\\n(Variância explicada: {pca.explained_variance_ratio_.sum():.2%})')
        axes[1,0].set_xlabel(f'PC1 ({pca.explained_variance_ratio_[0]:.2%})')
        axes[1,0].set_ylabel(f'PC2 ({pca.explained_variance_ratio_[1]:.2%})')
        
        # Mostrar contribuições dos features
        feature_importance = pd.DataFrame(
            pca.components_[:2].T,
            columns=['PC1', 'PC2'],
            index=key_indicators
        )
        print("Contribuições dos indicadores para os Componentes Principais:")
        print(feature_importance)
    
    # 4. Radar chart comparativo
    # Normalizar dados para radar chart
    radar_data = multi_df[key_indicators].copy()
    for col in key_indicators:
        if col in radar_data.columns:
            radar_data[col] = (radar_data[col] - radar_data[col].min()) / (radar_data[col].max() - radar_data[col].min())
    
    # Calcular médias por categoria
    category_means = radar_data.groupby(multi_df['Categoria']).mean()
    
    # Criar gráfico de barras agrupadas
    if len(category_means) > 0:
        x = np.arange(len(key_indicators))
        width = 0.35
        
        for i, category in enumerate(category_means.index):
            values = [category_means.loc[category, ind] if not pd.isna(category_means.loc[category, ind]) else 0 for ind in key_indicators]
            axes[1,1].bar(x + i*width, values, width, label=category, alpha=0.8)
        
        axes[1,1].set_title('Comparação Normalizada de Indicadores por Categoria')
        axes[1,1].set_xlabel('Indicadores')
        axes[1,1].set_ylabel('Valor Normalizado (0-1)')
        axes[1,1].set_xticks(x + width/2)
        axes[1,1].set_xticklabels([ind.replace(' ', '\\n') for ind in key_indicators], rotation=45, ha='right')
        axes[1,1].legend()
    
    plt.tight_layout()
    plt.show()
    
    # Estatísticas adicionais
    print("\\nEstatísticas Multivariadas:")
    print("="*60)
    
    # Correlações mais fortes
    correlations = []
    for i in range(len(correlation_matrix.columns)):
        for j in range(i+1, len(correlation_matrix.columns)):
            corr_value = correlation_matrix.iloc[i, j]
            if abs(corr_value) > 0.3:  # Apenas correlações moderadas ou fortes
                correlations.append((
                    correlation_matrix.columns[i],
                    correlation_matrix.columns[j],
                    corr_value
                ))
    
    # Ordenar por valor absoluto da correlação
    correlations.sort(key=lambda x: abs(x[2]), reverse=True)
    
    print("\\nCorrelações mais significativas (|r| > 0.3):")
    for var1, var2, corr in correlations[:10]:
        direction = "positiva" if corr > 0 else "negativa"
        strength = "forte" if abs(corr) > 0.7 else "moderada" if abs(corr) > 0.5 else "fraca"
        print(f"{var1} ↔ {var2}: {corr:.4f} (correlação {strength} {direction})")
    
    # Análise por categoria
    print("\\nComparação de médias por categoria:")
    for indicator in key_indicators:
        if indicator in multi_df.columns:
            category_stats = multi_df.groupby('Categoria')[indicator].agg(['mean', 'count']).round(2)
            if len(category_stats) > 1:
                print(f"\\n{indicator}:")
                for category in category_stats.index:
                    mean_val = category_stats.loc[category, 'mean']
                    count_val = category_stats.loc[category, 'count']
                    print(f"  {category}: {mean_val} (n={count_val})")

# Executar análise multivariada
multivariate_analysis()






# Funções utilitárias adicionais

def export_data_to_csv():
    """Exporta os dados analisados para CSV"""
    try:
        # Exportar dados consolidados
        analysis_df.to_csv('world_bank_analysis_data.csv', index=True)
        print("✓ Dados exportados para 'world_bank_analysis_data.csv'")
        
        # Exportar dados por indicador
        for indicator_name, df in data.items():
            safe_name = indicator_name.replace('(', '').replace(')', '').replace(' ', '_').replace('%', 'pct')
            filename = f'world_bank_{safe_name}.csv'
            df.to_csv(filename, index=True)
            print(f"✓ Dados de '{indicator_name}' exportados para '{filename}'")
        
    except Exception as e:
        print(f"Erro ao exportar dados: {e}")

def create_country_profile(country_name):
    """Cria um perfil detalhado de um país específico"""
    if country_name in analysis_df.index:
        country_data = analysis_df.loc[country_name]
        
        print(f"PERFIL DO PAÍS: {country_name.upper()}")
        print("="*50)
        print(f"Categoria: {country_data['Categoria']}")
        print()
        
        # Principais indicadores
        key_indicators = [
            'PIB per capita (USD)',
            'Índice GINI',
            'Taxa de Pobreza (< $2.15/dia)',
            'Acesso a Conta Financeira (%)',
            'Usuários Internet (%)',
            'Gastos com Saúde per capita (USD)'
        ]
        
        for indicator in key_indicators:
            if indicator in country_data.index and not pd.isna(country_data[indicator]):
                value = country_data[indicator]
                if isinstance(value, (int, float)):
                    if 'USD' in indicator:
                        print(f"{indicator}: ${value:,.2f}")
                    elif '%' in indicator:
                        print(f"{indicator}: {value:.1f}%")
                    else:
                        print(f"{indicator}: {value:.2f}")
                else:
                    print(f"{indicator}: {value}")
        
        # Comparação com média do grupo
        group_avg = analysis_df[analysis_df['Categoria'] == country_data['Categoria']].mean()
        
        print(f"\nComparação com média do grupo ({country_data['Categoria']}):")
        print("-" * 50)
        
        for indicator in key_indicators:
            if indicator in country_data.index and indicator in group_avg.index:
                country_val = country_data[indicator]
                group_val = group_avg[indicator]
                
                if pd.notna(country_val) and pd.notna(group_val):
                    diff = country_val - group_val
                    if abs(diff) > 0.01:  # Apenas se diferença significativa
                        direction = "acima" if diff > 0 else "abaixo"
                        print(f"{indicator}: {direction} da média ({diff:+.2f})")
    else:
        print(f"País '{country_name}' não encontrado nos dados.")
        print("Países disponíveis:")
        for country in analysis_df.index:
            print(f"- {country}")

def summary_statistics():
    """Mostra estatísticas resumidas da análise"""
    print("RESUMO ESTATÍSTICO DA ANÁLISE")
    print("="*60)
    
    # Estatísticas por categoria
    print("\nEstatísticas por Categoria:")
    print("-" * 30)
    
    category_stats = analysis_df.groupby('Categoria').agg({
        'PIB per capita (USD)': ['count', 'mean', 'median', 'std'],
        'Índice GINI': ['count', 'mean', 'median', 'std']
    }).round(2)
    
    print(category_stats)
    
    # Correlações principais
    print("\nPrincipais Correlações:")
    print("-" * 30)
    
    key_indicators = ['PIB per capita (USD)', 'Índice GINI', 'Acesso a Conta Financeira (%)', 
                      'Usuários Internet (%)', 'Gastos com Saúde per capita (USD)']
    
    corr_matrix = analysis_df[key_indicators].corr()
    
    # Encontrar correlações mais fortes
    correlations = []
    for i in range(len(corr_matrix.columns)):
        for j in range(i+1, len(corr_matrix.columns)):
            corr_val = corr_matrix.iloc[i, j]
            if abs(corr_val) > 0.4:  # Apenas correlações moderadas ou fortes
                correlations.append((
                    corr_matrix.columns[i],
                    corr_matrix.columns[j],
                    corr_val
                ))
    
    # Ordenar e mostrar
    correlations.sort(key=lambda x: abs(x[2]), reverse=True)
    
    for var1, var2, corr in correlations[:5]:
        print(f"{var1} ↔ {var2}: {corr:.3f}")

# Executar funções utilitárias
print("FUNÇÕES UTILITÁRIAS DISPONÍVEIS:")
print("="*50)
print("1. export_data_to_csv() - Exporta dados para CSV")
print("2. create_country_profile('País') - Cria perfil de país")
print("3. summary_statistics() - Mostra estatísticas resumidas")
print()

# Executar resumo automático
summary_statistics()

print("\nPara exportar os dados, execute: export_data_to_csv()")
print("Para ver o perfil de um país, execute: create_country_profile('Nome do País')")
print("\nAnálise completa finalizada! 🎉")







